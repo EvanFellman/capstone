{
 "cells": [
  {
   "cell_type": "markdown",
   "metadata": {},
   "source": [
    "# Page Rank Example"
   ]
  },
  {
   "cell_type": "code",
   "execution_count": 3,
   "metadata": {},
   "outputs": [],
   "source": [
    "import numpy as np"
   ]
  },
  {
   "cell_type": "markdown",
   "metadata": {},
   "source": [
    "Suppose there are 3 users, A, B and C.\n",
    "Suppose A follows c, B follows A, and C follows A, B, then, the transition matrix $M$ is"
   ]
  },
  {
   "cell_type": "code",
   "execution_count": 19,
   "metadata": {},
   "outputs": [],
   "source": [
    "M = np.array([\n",
    "    [0, 0, 1],      # A follows C\n",
    "    [1, 0, 0],      # B follows A\n",
    "    [0.5, 0.5, 0]   # C follows A and B\n",
    "])\n",
    "\n",
    "n = 3  # since there are 3 nodes"
   ]
  },
  {
   "cell_type": "markdown",
   "metadata": {},
   "source": [
    "Set $d=0.85$."
   ]
  },
  {
   "cell_type": "code",
   "execution_count": 20,
   "metadata": {},
   "outputs": [],
   "source": [
    "d = 0.85"
   ]
  },
  {
   "cell_type": "markdown",
   "metadata": {},
   "source": [
    "We initialize the state $r^0$."
   ]
  },
  {
   "cell_type": "code",
   "execution_count": 21,
   "metadata": {},
   "outputs": [],
   "source": [
    "r = np.ones(3) / 3"
   ]
  },
  {
   "cell_type": "markdown",
   "metadata": {},
   "source": [
    "We run the page-rank algoirhtm $r^{(i)} = 0.85M^Tr^{(i-1)} + 0.15r^{(i-1)}$ for 30 iterations, where $r^{(i)}$ is the ranking at iteration $i$. The PageRank algorithm converges after 25 iterations to the stable distribution $r = \\begin{bmatrix} 0.4 & 0.2 & 0.4 \\end{bmatrix}$."
   ]
  },
  {
   "cell_type": "code",
   "execution_count": 22,
   "metadata": {},
   "outputs": [
    {
     "data": {
      "text/plain": [
       "array([0.33333333, 0.33333333, 0.33333333])"
      ]
     },
     "execution_count": 22,
     "metadata": {},
     "output_type": "execute_result"
    }
   ],
   "source": [
    "r"
   ]
  },
  {
   "cell_type": "code",
   "execution_count": 23,
   "metadata": {},
   "outputs": [
    {
     "name": "stdout",
     "output_type": "stream",
     "text": [
      "iter=0, r=[0.475      0.19166667 0.33333333]\n",
      "iter=1, r=[0.37583333 0.17041667 0.45375   ]\n",
      "iter=2, r=[0.39407292 0.21840625 0.38752083]\n",
      "iter=3, r=[0.4094526  0.19745729 0.3930901 ]\n",
      "iter=4, r=[0.39631988 0.19668189 0.40699823]\n",
      "iter=5, r=[0.39960183 0.20247653 0.39792163]\n",
      "iter=6, r=[0.40116202 0.19948817 0.3993498 ]\n",
      "iter=7, r=[0.39946292 0.19964689 0.40089019]\n",
      "iter=8, r=[0.39999763 0.20032536 0.39967701]\n",
      "iter=9, r=[0.40013893 0.19991153 0.39994953]\n",
      "iter=10, r=[0.3999242  0.19996528 0.40011052]\n",
      "iter=11, r=[0.40000609 0.20004176 0.39995214]\n",
      "iter=12, r=[0.40001607 0.19998593 0.399998  ]\n",
      "iter=13, r=[0.3999896  0.19999704 0.40001336]\n",
      "iter=14, r=[0.4000016  0.20000524 0.39999316]\n",
      "iter=15, r=[0.40000178 0.19999788 0.40000034]\n",
      "iter=16, r=[0.39999861 0.19999982 0.40000157]\n",
      "iter=17, r=[0.40000031 0.20000064 0.39999905]\n",
      "iter=18, r=[0.40000019 0.19999969 0.40000012]\n",
      "iter=19, r=[0.39999982 0.2        0.40000018]\n",
      "iter=20, r=[0.40000005 0.20000008 0.39999987]\n",
      "iter=21, r=[0.40000002 0.19999996 0.40000003]\n",
      "iter=22, r=[0.39999998 0.2        0.40000002]\n",
      "iter=23, r=[0.40000001 0.20000001 0.39999998]\n",
      "iter=24, r=[0.4        0.19999999 0.4       ]\n",
      "iter=25, r=[0.4 0.2 0.4]\n",
      "iter=26, r=[0.4 0.2 0.4]\n",
      "iter=27, r=[0.4 0.2 0.4]\n",
      "iter=28, r=[0.4 0.2 0.4]\n",
      "iter=29, r=[0.4 0.2 0.4]\n"
     ]
    }
   ],
   "source": [
    "n_iter = 30\n",
    "\n",
    "for i in range(0, n_iter):\n",
    "    r = 0.85 * np.matmul(M.T, r) + 0.15 * r\n",
    "    print('iter=%d, r=%s' % (i, r))"
   ]
  },
  {
   "cell_type": "code",
   "execution_count": 28,
   "metadata": {},
   "outputs": [
    {
     "data": {
      "text/plain": [
       "(array([2., 8., 3., 3., 4.]),\n",
       " array([1. , 1.8, 2.6, 3.4, 4.2, 5. ]),\n",
       " <BarContainer object of 5 artists>)"
      ]
     },
     "execution_count": 28,
     "metadata": {},
     "output_type": "execute_result"
    },
    {
     "data": {
      "image/png": "[encoded data removed]",
      "text/plain": [
       "<Figure size 432x288 with 1 Axes>"
      ]
     },
     "metadata": {
      "needs_background": "light"
     },
     "output_type": "display_data"
    }
   ],
   "source": [
    "import matplotlib.pyplot as plt\n",
    "\n",
    "test = [2,3,2,2,2,4,5,1,2,2,3,3,2,4,4,5,5,5,2,1]\n",
    "\n",
    "plt.hist(test, bins = 5)"
   ]
  },
  {
   "cell_type": "code",
   "execution_count": 37,
   "metadata": {},
   "outputs": [
    {
     "data": {
      "text/plain": [
       "12"
      ]
     },
     "execution_count": 37,
     "metadata": {},
     "output_type": "execute_result"
    }
   ],
   "source": [
    "len(list2)"
   ]
  },
  {
   "cell_type": "code",
   "execution_count": 32,
   "metadata": {},
   "outputs": [
    {
     "data": {
      "text/plain": [
       "(array([2., 2., 2.]),\n",
       " array([1.        , 2.66666667, 4.33333333, 6.        ]),\n",
       " <BarContainer object of 3 artists>)"
      ]
     },
     "execution_count": 32,
     "metadata": {},
     "output_type": "execute_result"
    },
    {
     "data": {
      "image/png": "[encoded data removed]",
      "text/plain": [
       "<Figure size 432x288 with 1 Axes>"
      ]
     },
     "metadata": {
      "needs_background": "light"
     },
     "output_type": "display_data"
    }
   ],
   "source": [
    "test = [1,2,3,4,5,6]\n",
    "\n",
    "plt.hist(test, bins = 3)"
   ]
  },
  {
   "cell_type": "code",
   "execution_count": 33,
   "metadata": {},
   "outputs": [
    {
     "data": {
      "image/png": "[encoded data removed]",
      "text/plain": [
       "<Figure size 432x288 with 1 Axes>"
      ]
     },
     "metadata": {
      "needs_background": "light"
     },
     "output_type": "display_data"
    }
   ],
   "source": [
    "import pandas as pd\n",
    "import matplotlib.pyplot as plt\n",
    "\n",
    "# Define two lists of integers of different sizes\n",
    "list1 = [2, 3, 4, 5, 6, 7, 8, 9, 10]\n",
    "list2 = [1, 3, 4, 5, 6, 7, 9, 10, 11, 13, 15, 16]\n",
    "\n",
    "# Convert the lists to pandas Series\n",
    "series1 = pd.Series(list1)\n",
    "series2 = pd.Series(list2)\n",
    "\n",
    "# Calculate the rolling means using a window of 3\n",
    "window_size = 3\n",
    "rolling_mean1 = series1.rolling(window=3).mean().iloc[window_size-1:]\n",
    "rolling_mean2 = series2.rolling(window=4).mean().iloc[window_size-1:]\n",
    "\n",
    "# Plot the rolling means\n",
    "plt.plot(rolling_mean1, label='List 1')\n",
    "plt.plot(rolling_mean2, label='List 2')\n",
    "\n",
    "# Add labels and legend\n",
    "plt.xlabel('Index')\n",
    "plt.ylabel('Rolling Mean')\n",
    "plt.title('Rolling Means of Two Lists')\n",
    "plt.legend()\n",
    "\n",
    "# Show the plot\n",
    "plt.show()\n"
   ]
  },
  {
   "cell_type": "code",
   "execution_count": 36,
   "metadata": {},
   "outputs": [
    {
     "data": {
      "text/plain": [
       "2    3.0\n",
       "3    4.0\n",
       "4    5.0\n",
       "5    6.0\n",
       "6    7.0\n",
       "7    8.0\n",
       "8    9.0\n",
       "dtype: float64"
      ]
     },
     "execution_count": 36,
     "metadata": {},
     "output_type": "execute_result"
    }
   ],
   "source": [
    "rolling_mean1"
   ]
  },
  {
   "cell_type": "code",
   "execution_count": null,
   "metadata": {},
   "outputs": [],
   "source": []
  }
 ],
 "metadata": {
  "kernelspec": {
   "display_name": "py37",
   "language": "python",
   "name": "py37"
  },
  "language_info": {
   "codemirror_mode": {
    "name": "ipython",
    "version": 3
   },
   "file_extension": ".py",
   "mimetype": "text/x-python",
   "name": "python",
   "nbconvert_exporter": "python",
   "pygments_lexer": "ipython3",
   "version": "3.7.11"
  }
 },
 "nbformat": 4,
 "nbformat_minor": 2
}
