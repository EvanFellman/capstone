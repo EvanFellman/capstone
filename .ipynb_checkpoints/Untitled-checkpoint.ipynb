{
 "cells": [
  {
   "cell_type": "code",
   "execution_count": 1,
   "metadata": {},
   "outputs": [
    {
     "name": "stdout",
     "output_type": "stream",
     "text": [
      "Requirement already satisfied: pyChatGPT in /Users/varus/opt/anaconda3/lib/python3.7/site-packages (0.4.3.3)\n",
      "Requirement already satisfied: undetected-chromedriver>=3.2.1 in /Users/varus/opt/anaconda3/lib/python3.7/site-packages (from pyChatGPT) (3.4.6)\n",
      "Requirement already satisfied: markdownify>=0.11.6 in /Users/varus/opt/anaconda3/lib/python3.7/site-packages (from pyChatGPT) (0.11.6)\n",
      "Requirement already satisfied: beautifulsoup4<5,>=4.9 in /Users/varus/opt/anaconda3/lib/python3.7/site-packages (from markdownify>=0.11.6->pyChatGPT) (4.12.0)\n",
      "Requirement already satisfied: six<2,>=1.15 in /Users/varus/opt/anaconda3/lib/python3.7/site-packages (from markdownify>=0.11.6->pyChatGPT) (1.16.0)\n",
      "Requirement already satisfied: soupsieve>1.2 in /Users/varus/opt/anaconda3/lib/python3.7/site-packages (from beautifulsoup4<5,>=4.9->markdownify>=0.11.6->pyChatGPT) (1.9.3)\n",
      "Requirement already satisfied: websockets in /Users/varus/opt/anaconda3/lib/python3.7/site-packages (from undetected-chromedriver>=3.2.1->pyChatGPT) (10.4)\n",
      "Requirement already satisfied: selenium>=4.0.0 in /Users/varus/opt/anaconda3/lib/python3.7/site-packages (from undetected-chromedriver>=3.2.1->pyChatGPT) (4.8.2)\n",
      "Requirement already satisfied: requests in /Users/varus/opt/anaconda3/lib/python3.7/site-packages (from undetected-chromedriver>=3.2.1->pyChatGPT) (2.28.2)\n",
      "Requirement already satisfied: urllib3[socks]~=1.26 in /Users/varus/.local/lib/python3.7/site-packages (from selenium>=4.0.0->undetected-chromedriver>=3.2.1->pyChatGPT) (1.26.14)\n",
      "Requirement already satisfied: certifi>=2021.10.8 in /Users/varus/opt/anaconda3/lib/python3.7/site-packages (from selenium>=4.0.0->undetected-chromedriver>=3.2.1->pyChatGPT) (2022.12.7)\n",
      "Requirement already satisfied: trio-websocket~=0.9 in /Users/varus/opt/anaconda3/lib/python3.7/site-packages (from selenium>=4.0.0->undetected-chromedriver>=3.2.1->pyChatGPT) (0.10.2)\n",
      "Requirement already satisfied: trio~=0.17 in /Users/varus/opt/anaconda3/lib/python3.7/site-packages (from selenium>=4.0.0->undetected-chromedriver>=3.2.1->pyChatGPT) (0.22.0)\n",
      "Requirement already satisfied: attrs>=19.2.0 in /Users/varus/opt/anaconda3/lib/python3.7/site-packages (from trio~=0.17->selenium>=4.0.0->undetected-chromedriver>=3.2.1->pyChatGPT) (19.2.0)\n",
      "Requirement already satisfied: sniffio in /Users/varus/opt/anaconda3/lib/python3.7/site-packages (from trio~=0.17->selenium>=4.0.0->undetected-chromedriver>=3.2.1->pyChatGPT) (1.3.0)\n",
      "Requirement already satisfied: async-generator>=1.9 in /Users/varus/opt/anaconda3/lib/python3.7/site-packages (from trio~=0.17->selenium>=4.0.0->undetected-chromedriver>=3.2.1->pyChatGPT) (1.10)\n",
      "Requirement already satisfied: exceptiongroup>=1.0.0rc9 in /Users/varus/opt/anaconda3/lib/python3.7/site-packages (from trio~=0.17->selenium>=4.0.0->undetected-chromedriver>=3.2.1->pyChatGPT) (1.1.1)\n",
      "Requirement already satisfied: idna in /Users/varus/opt/anaconda3/lib/python3.7/site-packages (from trio~=0.17->selenium>=4.0.0->undetected-chromedriver>=3.2.1->pyChatGPT) (2.8)\n",
      "Requirement already satisfied: sortedcontainers in /Users/varus/opt/anaconda3/lib/python3.7/site-packages (from trio~=0.17->selenium>=4.0.0->undetected-chromedriver>=3.2.1->pyChatGPT) (2.1.0)\n",
      "Requirement already satisfied: outcome in /Users/varus/opt/anaconda3/lib/python3.7/site-packages (from trio~=0.17->selenium>=4.0.0->undetected-chromedriver>=3.2.1->pyChatGPT) (1.2.0)\n",
      "Requirement already satisfied: wsproto>=0.14 in /Users/varus/opt/anaconda3/lib/python3.7/site-packages (from trio-websocket~=0.9->selenium>=4.0.0->undetected-chromedriver>=3.2.1->pyChatGPT) (1.2.0)\n",
      "Requirement already satisfied: PySocks!=1.5.7,<2.0,>=1.5.6 in /Users/varus/opt/anaconda3/lib/python3.7/site-packages (from urllib3[socks]~=1.26->selenium>=4.0.0->undetected-chromedriver>=3.2.1->pyChatGPT) (1.7.1)\n",
      "Requirement already satisfied: h11<1,>=0.9.0 in /Users/varus/opt/anaconda3/lib/python3.7/site-packages (from wsproto>=0.14->trio-websocket~=0.9->selenium>=4.0.0->undetected-chromedriver>=3.2.1->pyChatGPT) (0.14.0)\n",
      "Requirement already satisfied: typing-extensions in /Users/varus/opt/anaconda3/lib/python3.7/site-packages (from h11<1,>=0.9.0->wsproto>=0.14->trio-websocket~=0.9->selenium>=4.0.0->undetected-chromedriver>=3.2.1->pyChatGPT) (4.5.0)\n",
      "Requirement already satisfied: charset-normalizer<4,>=2 in /Users/varus/opt/anaconda3/lib/python3.7/site-packages (from requests->undetected-chromedriver>=3.2.1->pyChatGPT) (3.1.0)\n",
      "\u001b[33mWARNING: You are using pip version 21.0.1; however, version 23.0.1 is available.\n",
      "You should consider upgrading via the '/Users/varus/opt/anaconda3/bin/python -m pip install --upgrade pip' command.\u001b[0m\n"
     ]
    }
   ],
   "source": [
    "!pip install -U pyChatGPT"
   ]
  },
  {
   "cell_type": "code",
   "execution_count": 7,
   "metadata": {},
   "outputs": [],
   "source": [
    "from pyChatGPT import ChatGPT\n",
    "import sys\n",
    "\n",
    "\n",
    "# Initialize the model\n",
    "session_token = \"eyJhbGciOiJkaXIiLCJlbmMiOiJBMjU2R0NNIn0..SlYRVFcYLUPFQBoz.GS0x1onGofKyM_OncgvtuJZkhdc72YfHdyIwrBvod-HZWSw00RWU3oMy12DxCuzEB1DxBKqRrQQcuq0WPVImnUP-NJ7cW0t_hZYpng50z2M7h-VktbmTiRxaGXUFwR-XUGo85exrVOPAj5yAagN-MOFx0z2C69oWR6NyMHiMD1pbuy_OLHU499vnJErvS8aja7GgVu3OEKdX9thkp9UdR1BsNJp3J2g4fZzmIUEJxqCVFHwtR59GZ1f-N1AwZvr774cstO-NABrDsAa8Jw9GgWej4gLCxxWYajOodeffHjmkTl90iBDT7p8K9DSpkt66N4uoQzozDVArDnRV8vYlQDuXfmRdPqzyNwDXFnn_Ix5581WjTXPrpXtwJbzkptLolTcpbm19VwKs5FuEqdJXea3fJLwB9et0VgPTmKukf9jsfyfpsdYTaWkBsuPuwCZrbFoLg8IEyanc6Cb174Su1W55rJ7a59W1_a84TMDaFNgnwd27NgTvTtHqyaA1WyvhWdzU_I1rL4zsyivkv97795KhwSBvuLnKerPesZz8UWSX3k1bq5jzVioq4gyzzycJa_H-ENX5g5YSHySNU31GAUKC3NuDctSPcPoDltiODFIELT0S32RTyTiTaHnwP-3J8CAjgxQ61BL7VOANG8N7X4Xfazdo7k5I3mXVgy5oXjXwtP6T3pp1F1wkHWT9ZKy4ciO36A3gpCSrLk8zCkS1aLPGvlhLhw7YdYxe7zETKK8sd_kclroGVboKsb2wtXiAvAqHYoGJplirYgEi3GLvLg5C6Ytc0umrjyRZZGgGHDe-AX2wGxHZ19EqXDQ_vmRSLeSsEXSnvr_4dRMrP2GyWHPZYTOdeNZDWoxmiqR2gRupcypiPhWK7UFoTTZwZwLaiIcdYAIQqKSDWfXFcz0dsXn0uSSGfPbFu67_sZE453PhrhiASj4nVTr87r8izLiZql2Gml4lGVjkc_IZzOrht2gXykD3Zpi2ViP_2lIziW14wHJh85N1qp6b5o1jerQTVSjV1TV3KqYPKrJIfZcpR_5jpfD-e2pmCekXztMDG3U3wC7z3j9QSCUFLzmD4OqWE_rfkaZ3Bek5yRSSuC-_gY7C_kME8OxsMyLYOZgMxYlD50gpe4zRSuTO-qJS0dxCfEZtm5J_4Y4HCzoL76cnRYmw9scSrSpii1Od2h079AWYBodhxD8OiIwDhwiuRunVpDn9j0-0SoG64LVE3idLKWIqmf6dt9HDJ5TouCPlIeCcSS3gIvcIOOXFqAQf9I4Gs-tiXFWMSL_2NMo09rvhF-ZDhPbM2x5I0Y9pcKoyQdQ44BWU5a373I4DfCvbVYt_EVLm-49N232bDhF28oYJU9_oYmuk6ksAM_kqtxnaerJmnOFF-mbKai-Pn6KhbEGu5E6BfTBMJlpVasywCaH_WNARsvOPqAYXJ_OZ7fTbG1MN6tL_0p_fvNzkflp-7nxAMytzg80tZ9-ZO3ERVqvmUO7lNGm3yLOKXmZv3W3nVgzkkbFJKUw6Nyu3eUCU-Ul3x5djW7Sz84daylDKs2Hi0x_i6pDe9tqrYtd9Xa7jTCWtgmFaL9KjCH4bWjDUzHfdm3HX0h6V_ym3yv05R-H0SLZcrGvvbG6dBp973NQ67QQSOQCg_8KO5735FfJs3ZOJn2a-VHeFzxvVvVZxKsxn4UZQoELTQry6awJahfRQT7fsjb9ka_fKtgb2ZyjIf0cZy5e7sXSVRBxCkKWroSgC0u2w9yN30bQ_yW-P3d1eTwPjRupTzg_47wbafSbSZqJaFKhI8PR1DfxSuLlqBvydXs5l5toY245xl1CqylpvlfQ1m1wCOVR4mMIoyCvbg4Bt2Aw-mDIwaAj5QZKRd70cyxHKJpUuEVrSJ0aHycxNwePQXr4vhKAUOssfI8pfwQ4ZiQ2IkM4ZNz4m9G0UunevFYPiT0CTvyNN5NXL0SbgHzNZsSM2dx3zEIkWxC6Rp-tBy7cscslosicDhDXYWZwiC5XUMR6okgmXKNfd93nox17eFqzVnWG8fFz6w5QFU_i9NUmhhpKdIx7gdmgbN_GrMlLoc4NLcFonBRWmAWnInHiOowTn0gMQKmWlIIAMVce-B6MDHWR03UwggrkHydYqz7xXb1q7NBPaLmuxpFX5VlRjQWLjcRyQ1ivYvZ71N4VuP2GRBso0q4CM6o3zS_yTvSDPpS5KUGF31DFLl7ncovx7aza3kOtnOI1WAWAn5s0r8LQoWNmgrte67iJVYEHHXtnDKF6Oe-uZ6U8dWJaU7iGStk8UPRL-BA6T9Z3Ixmdliv4bPUX3lC7Vs3GJ588oohX8G4ivoJqf5SOkKrYCq82Lp_Z60Jfcek4MXhM_uF0xRGBABCjR8Z-erKjvf4jX8oRDGhNk3nTwwmpj8HXW8WgzBIJfwIlWZ5p4HANTc-A_td0TWgrCW0JfAq7uNlspk40GomLBYVCFg7MyXSsFt7it6VumJP-t7ahM4LxnIphe0fiUkid8SCs.IsDrXKIG4M0ZLWH9mJsMlg\"\n",
    "print(\"Please wait while we load ChatGPT...\")\n",
    "api = ChatGPT(session_token)\n",
    "print(\"Created agent\")\n",
    "question = \"What is the capital of France and when was it founded?\"\n",
    "\n",
    "# if len(sys.argv) > 1:\n",
    "#     question = ' '.join(sys.argv[1:])\n",
    "\n"
   ]
  },
  {
   "cell_type": "code",
   "execution_count": 19,
   "metadata": {
    "scrolled": true
   },
   "outputs": [
    {
     "ename": "TimeoutException",
     "evalue": "Message: \nStacktrace:\n0   undetected_chromedriver             0x0000000106669428 undetected_chromedriver + 4899880\n1   undetected_chromedriver             0x00000001065e6a23 undetected_chromedriver + 4364835\n2   undetected_chromedriver             0x0000000106230bf6 undetected_chromedriver + 474102\n3   undetected_chromedriver             0x00000001062744f0 undetected_chromedriver + 750832\n4   undetected_chromedriver             0x0000000106274751 undetected_chromedriver + 751441\n5   undetected_chromedriver             0x00000001062b8834 undetected_chromedriver + 1030196\n6   undetected_chromedriver             0x000000010629a58d undetected_chromedriver + 906637\n7   undetected_chromedriver             0x00000001062b5b5b undetected_chromedriver + 1018715\n8   undetected_chromedriver             0x000000010629a333 undetected_chromedriver + 906035\n9   undetected_chromedriver             0x000000010626455f undetected_chromedriver + 685407\n10  undetected_chromedriver             0x0000000106265a7e undetected_chromedriver + 690814\n11  undetected_chromedriver             0x000000010663679e undetected_chromedriver + 4691870\n12  undetected_chromedriver             0x000000010663b961 undetected_chromedriver + 4712801\n13  undetected_chromedriver             0x00000001066422ff undetected_chromedriver + 4739839\n14  undetected_chromedriver             0x000000010663c85a undetected_chromedriver + 4716634\n15  undetected_chromedriver             0x000000010660efce undetected_chromedriver + 4530126\n16  undetected_chromedriver             0x000000010665c5c8 undetected_chromedriver + 4847048\n17  undetected_chromedriver             0x000000010665c747 undetected_chromedriver + 4847431\n18  undetected_chromedriver             0x000000010667187f undetected_chromedriver + 4933759\n19  libsystem_pthread.dylib             0x00007ff803c414e1 _pthread_start + 125\n20  libsystem_pthread.dylib             0x00007ff803c3cf6b thread_start + 15\n",
     "output_type": "error",
     "traceback": [
      "\u001b[0;31m---------------------------------------------------------------------------\u001b[0m",
      "\u001b[0;31mTimeoutException\u001b[0m                          Traceback (most recent call last)",
      "\u001b[0;32m<ipython-input-19-1398ec5a6f2b>\u001b[0m in \u001b[0;36m<module>\u001b[0;34m\u001b[0m\n\u001b[0;32m----> 1\u001b[0;31m \u001b[0mreply\u001b[0m \u001b[0;34m=\u001b[0m \u001b[0mapi\u001b[0m\u001b[0;34m.\u001b[0m\u001b[0msend_message\u001b[0m\u001b[0;34m(\u001b[0m\u001b[0;34m\"Your task is to ask Google queries until you have enough information to answer the question: \\\"{your_question}\\\" You must answer in one of two ways. If you have enough information then you preface your reply with \\\"Answer:\\\" and state the correct answer. Otherwise if you do not have enough information, preface your reply with \\\"Query:\\\" and state the query that will help you gain more information about the question. Reply with exactly one query or answer at a time.\"\u001b[0m\u001b[0;34m.\u001b[0m\u001b[0mformat\u001b[0m\u001b[0;34m(\u001b[0m\u001b[0myour_question\u001b[0m\u001b[0;34m=\u001b[0m\u001b[0mquestion\u001b[0m\u001b[0;34m)\u001b[0m\u001b[0;34m)\u001b[0m\u001b[0;34m\u001b[0m\u001b[0;34m\u001b[0m\u001b[0m\n\u001b[0m\u001b[1;32m      2\u001b[0m \u001b[0;34m\u001b[0m\u001b[0m\n",
      "\u001b[0;32m~/opt/anaconda3/lib/python3.7/site-packages/pyChatGPT/pyChatGPT.py\u001b[0m in \u001b[0;36msend_message\u001b[0;34m(self, message, stream)\u001b[0m\n\u001b[1;32m    454\u001b[0m             \u001b[0mself\u001b[0m\u001b[0;34m.\u001b[0m\u001b[0mreset_conversation\u001b[0m\u001b[0;34m(\u001b[0m\u001b[0;34m)\u001b[0m\u001b[0;34m\u001b[0m\u001b[0;34m\u001b[0m\u001b[0m\n\u001b[1;32m    455\u001b[0m             WebDriverWait(self.driver, 5).until(\n\u001b[0;32m--> 456\u001b[0;31m                 \u001b[0mEC\u001b[0m\u001b[0;34m.\u001b[0m\u001b[0melement_to_be_clickable\u001b[0m\u001b[0;34m(\u001b[0m\u001b[0mchatgpt_chats_list_first_node\u001b[0m\u001b[0;34m)\u001b[0m\u001b[0;34m\u001b[0m\u001b[0;34m\u001b[0m\u001b[0m\n\u001b[0m\u001b[1;32m    457\u001b[0m             ).click()\n\u001b[1;32m    458\u001b[0m             \u001b[0mtime\u001b[0m\u001b[0;34m.\u001b[0m\u001b[0msleep\u001b[0m\u001b[0;34m(\u001b[0m\u001b[0;36m0.5\u001b[0m\u001b[0;34m)\u001b[0m\u001b[0;34m\u001b[0m\u001b[0;34m\u001b[0m\u001b[0m\n",
      "\u001b[0;32m~/opt/anaconda3/lib/python3.7/site-packages/selenium/webdriver/support/wait.py\u001b[0m in \u001b[0;36muntil\u001b[0;34m(self, method, message)\u001b[0m\n\u001b[1;32m     93\u001b[0m             \u001b[0;32mif\u001b[0m \u001b[0mtime\u001b[0m\u001b[0;34m.\u001b[0m\u001b[0mmonotonic\u001b[0m\u001b[0;34m(\u001b[0m\u001b[0;34m)\u001b[0m \u001b[0;34m>\u001b[0m \u001b[0mend_time\u001b[0m\u001b[0;34m:\u001b[0m\u001b[0;34m\u001b[0m\u001b[0;34m\u001b[0m\u001b[0m\n\u001b[1;32m     94\u001b[0m                 \u001b[0;32mbreak\u001b[0m\u001b[0;34m\u001b[0m\u001b[0;34m\u001b[0m\u001b[0m\n\u001b[0;32m---> 95\u001b[0;31m         \u001b[0;32mraise\u001b[0m \u001b[0mTimeoutException\u001b[0m\u001b[0;34m(\u001b[0m\u001b[0mmessage\u001b[0m\u001b[0;34m,\u001b[0m \u001b[0mscreen\u001b[0m\u001b[0;34m,\u001b[0m \u001b[0mstacktrace\u001b[0m\u001b[0;34m)\u001b[0m\u001b[0;34m\u001b[0m\u001b[0;34m\u001b[0m\u001b[0m\n\u001b[0m\u001b[1;32m     96\u001b[0m \u001b[0;34m\u001b[0m\u001b[0m\n\u001b[1;32m     97\u001b[0m     \u001b[0;32mdef\u001b[0m \u001b[0muntil_not\u001b[0m\u001b[0;34m(\u001b[0m\u001b[0mself\u001b[0m\u001b[0;34m,\u001b[0m \u001b[0mmethod\u001b[0m\u001b[0;34m,\u001b[0m \u001b[0mmessage\u001b[0m\u001b[0;34m:\u001b[0m \u001b[0mstr\u001b[0m \u001b[0;34m=\u001b[0m \u001b[0;34m\"\"\u001b[0m\u001b[0;34m)\u001b[0m\u001b[0;34m:\u001b[0m\u001b[0;34m\u001b[0m\u001b[0;34m\u001b[0m\u001b[0m\n",
      "\u001b[0;31mTimeoutException\u001b[0m: Message: \nStacktrace:\n0   undetected_chromedriver             0x0000000106669428 undetected_chromedriver + 4899880\n1   undetected_chromedriver             0x00000001065e6a23 undetected_chromedriver + 4364835\n2   undetected_chromedriver             0x0000000106230bf6 undetected_chromedriver + 474102\n3   undetected_chromedriver             0x00000001062744f0 undetected_chromedriver + 750832\n4   undetected_chromedriver             0x0000000106274751 undetected_chromedriver + 751441\n5   undetected_chromedriver             0x00000001062b8834 undetected_chromedriver + 1030196\n6   undetected_chromedriver             0x000000010629a58d undetected_chromedriver + 906637\n7   undetected_chromedriver             0x00000001062b5b5b undetected_chromedriver + 1018715\n8   undetected_chromedriver             0x000000010629a333 undetected_chromedriver + 906035\n9   undetected_chromedriver             0x000000010626455f undetected_chromedriver + 685407\n10  undetected_chromedriver             0x0000000106265a7e undetected_chromedriver + 690814\n11  undetected_chromedriver             0x000000010663679e undetected_chromedriver + 4691870\n12  undetected_chromedriver             0x000000010663b961 undetected_chromedriver + 4712801\n13  undetected_chromedriver             0x00000001066422ff undetected_chromedriver + 4739839\n14  undetected_chromedriver             0x000000010663c85a undetected_chromedriver + 4716634\n15  undetected_chromedriver             0x000000010660efce undetected_chromedriver + 4530126\n16  undetected_chromedriver             0x000000010665c5c8 undetected_chromedriver + 4847048\n17  undetected_chromedriver             0x000000010665c747 undetected_chromedriver + 4847431\n18  undetected_chromedriver             0x000000010667187f undetected_chromedriver + 4933759\n19  libsystem_pthread.dylib             0x00007ff803c414e1 _pthread_start + 125\n20  libsystem_pthread.dylib             0x00007ff803c3cf6b thread_start + 15\n"
     ]
    }
   ],
   "source": [
    "reply = api.send_message(\"Your task is to ask Google queries until you have enough information to answer the question: \\\"{your_question}\\\" You must answer in one of two ways. If you have enough information then you preface your reply with \\\"Answer:\\\" and state the correct answer. Otherwise if you do not have enough information, preface your reply with \\\"Query:\\\" and state the query that will help you gain more information about the question. Reply with exactly one query or answer at a time.\".format(your_question=question))\n",
    "\n",
    "allowed_prefixes = [\"Query:\", \"Answer:\"]\n",
    "allowed_attempts = 10\n",
    "attempts = 0\n",
    "\n",
    "try:\n",
    "    while attempts < allowed_attempts and not reply[\"message\"].startswith(\"Answer:\"):\n",
    "        if not reply[\"message\"].startswith(\"Query:\"):\n",
    "            reply = api.send_message(\"Please preface your reply with either \\\"Query:\\\" or \\\"Answer:\\\"\")\n",
    "            continue\n",
    "        attempts += 1\n",
    "        reply = api.send_message(\"Google says: BING ANSWER GOES HERE\")\n",
    "\n",
    "except:\n",
    "    print(reply[\"message\"])"
   ]
  },
  {
   "cell_type": "code",
   "execution_count": 20,
   "metadata": {},
   "outputs": [
    {
     "ename": "NameError",
     "evalue": "name 'reply' is not defined",
     "output_type": "error",
     "traceback": [
      "\u001b[0;31m---------------------------------------------------------------------------\u001b[0m",
      "\u001b[0;31mNameError\u001b[0m                                 Traceback (most recent call last)",
      "\u001b[0;32m<ipython-input-20-844caeb17033>\u001b[0m in \u001b[0;36m<module>\u001b[0;34m\u001b[0m\n\u001b[0;32m----> 1\u001b[0;31m \u001b[0mreply\u001b[0m\u001b[0;34m\u001b[0m\u001b[0;34m\u001b[0m\u001b[0m\n\u001b[0m",
      "\u001b[0;31mNameError\u001b[0m: name 'reply' is not defined"
     ]
    }
   ],
   "source": [
    "reply"
   ]
  },
  {
   "cell_type": "code",
   "execution_count": 24,
   "metadata": {},
   "outputs": [
    {
     "ename": "HTTPError",
     "evalue": "401 Client Error: PermissionDenied for url: https://api.bing.microsoft.com/v7.0/search?q=Microsoft+Cognitive+Services&mkt=en-US",
     "output_type": "error",
     "traceback": [
      "\u001b[0;31m---------------------------------------------------------------------------\u001b[0m",
      "\u001b[0;31mHTTPError\u001b[0m                                 Traceback (most recent call last)",
      "\u001b[0;32m<ipython-input-24-a191ca73acad>\u001b[0m in \u001b[0;36m<module>\u001b[0;34m\u001b[0m\n\u001b[1;32m     32\u001b[0m     \u001b[0mpprint\u001b[0m\u001b[0;34m(\u001b[0m\u001b[0mresponse\u001b[0m\u001b[0;34m.\u001b[0m\u001b[0mjson\u001b[0m\u001b[0;34m(\u001b[0m\u001b[0;34m)\u001b[0m\u001b[0;34m)\u001b[0m\u001b[0;34m\u001b[0m\u001b[0;34m\u001b[0m\u001b[0m\n\u001b[1;32m     33\u001b[0m \u001b[0;32mexcept\u001b[0m \u001b[0mException\u001b[0m \u001b[0;32mas\u001b[0m \u001b[0mex\u001b[0m\u001b[0;34m:\u001b[0m\u001b[0;34m\u001b[0m\u001b[0;34m\u001b[0m\u001b[0m\n\u001b[0;32m---> 34\u001b[0;31m     \u001b[0;32mraise\u001b[0m \u001b[0mex\u001b[0m\u001b[0;34m\u001b[0m\u001b[0;34m\u001b[0m\u001b[0m\n\u001b[0m",
      "\u001b[0;32m<ipython-input-24-a191ca73acad>\u001b[0m in \u001b[0;36m<module>\u001b[0;34m\u001b[0m\n\u001b[1;32m     24\u001b[0m \u001b[0;32mtry\u001b[0m\u001b[0;34m:\u001b[0m\u001b[0;34m\u001b[0m\u001b[0;34m\u001b[0m\u001b[0m\n\u001b[1;32m     25\u001b[0m     \u001b[0mresponse\u001b[0m \u001b[0;34m=\u001b[0m \u001b[0mrequests\u001b[0m\u001b[0;34m.\u001b[0m\u001b[0mget\u001b[0m\u001b[0;34m(\u001b[0m\u001b[0mendpoint\u001b[0m\u001b[0;34m,\u001b[0m \u001b[0mheaders\u001b[0m\u001b[0;34m=\u001b[0m\u001b[0mheaders\u001b[0m\u001b[0;34m,\u001b[0m \u001b[0mparams\u001b[0m\u001b[0;34m=\u001b[0m\u001b[0mparams\u001b[0m\u001b[0;34m)\u001b[0m\u001b[0;34m\u001b[0m\u001b[0;34m\u001b[0m\u001b[0m\n\u001b[0;32m---> 26\u001b[0;31m     \u001b[0mresponse\u001b[0m\u001b[0;34m.\u001b[0m\u001b[0mraise_for_status\u001b[0m\u001b[0;34m(\u001b[0m\u001b[0;34m)\u001b[0m\u001b[0;34m\u001b[0m\u001b[0;34m\u001b[0m\u001b[0m\n\u001b[0m\u001b[1;32m     27\u001b[0m \u001b[0;34m\u001b[0m\u001b[0m\n\u001b[1;32m     28\u001b[0m     \u001b[0mprint\u001b[0m\u001b[0;34m(\u001b[0m\u001b[0;34m\"\\nHeaders:\\n\"\u001b[0m\u001b[0;34m)\u001b[0m\u001b[0;34m\u001b[0m\u001b[0;34m\u001b[0m\u001b[0m\n",
      "\u001b[0;32m~/opt/anaconda3/lib/python3.7/site-packages/requests/models.py\u001b[0m in \u001b[0;36mraise_for_status\u001b[0;34m(self)\u001b[0m\n\u001b[1;32m   1019\u001b[0m \u001b[0;34m\u001b[0m\u001b[0m\n\u001b[1;32m   1020\u001b[0m         \u001b[0;32mif\u001b[0m \u001b[0mhttp_error_msg\u001b[0m\u001b[0;34m:\u001b[0m\u001b[0;34m\u001b[0m\u001b[0;34m\u001b[0m\u001b[0m\n\u001b[0;32m-> 1021\u001b[0;31m             \u001b[0;32mraise\u001b[0m \u001b[0mHTTPError\u001b[0m\u001b[0;34m(\u001b[0m\u001b[0mhttp_error_msg\u001b[0m\u001b[0;34m,\u001b[0m \u001b[0mresponse\u001b[0m\u001b[0;34m=\u001b[0m\u001b[0mself\u001b[0m\u001b[0;34m)\u001b[0m\u001b[0;34m\u001b[0m\u001b[0;34m\u001b[0m\u001b[0m\n\u001b[0m\u001b[1;32m   1022\u001b[0m \u001b[0;34m\u001b[0m\u001b[0m\n\u001b[1;32m   1023\u001b[0m     \u001b[0;32mdef\u001b[0m \u001b[0mclose\u001b[0m\u001b[0;34m(\u001b[0m\u001b[0mself\u001b[0m\u001b[0;34m)\u001b[0m\u001b[0;34m:\u001b[0m\u001b[0;34m\u001b[0m\u001b[0;34m\u001b[0m\u001b[0m\n",
      "\u001b[0;31mHTTPError\u001b[0m: 401 Client Error: PermissionDenied for url: https://api.bing.microsoft.com/v7.0/search?q=Microsoft+Cognitive+Services&mkt=en-US"
     ]
    }
   ],
   "source": [
    "#Copyright (c) Microsoft Corporation. All rights reserved.\n",
    "#Licensed under the MIT License.\n",
    "\n",
    "# -*- coding: utf-8 -*-\n",
    "\n",
    "import json\n",
    "import os \n",
    "from pprint import pprint\n",
    "import requests\n",
    "\n",
    "# Add your Bing Search V7 subscription key and endpoint to your environment variables.\n",
    "subscription_key = \"6e475fc9-e13f-46ba-9a97-ee6b4085aeb1\"\n",
    "endpoint = \"https://api.bing.microsoft.com/v7.0/search\"\n",
    "\n",
    "# Query term(s) to search for. \n",
    "query = \"Microsoft Cognitive Services\"\n",
    "\n",
    "# Construct a request\n",
    "mkt = 'en-US'\n",
    "params = { 'q': query, 'mkt': mkt }\n",
    "headers = { 'Ocp-Apim-Subscription-Key': subscription_key }\n",
    "\n",
    "# Call the API\n",
    "try:\n",
    "    response = requests.get(endpoint, headers=headers, params=params)\n",
    "    response.raise_for_status()\n",
    "\n",
    "    print(\"\\nHeaders:\\n\")\n",
    "    print(response.headers)\n",
    "\n",
    "    print(\"\\nJSON Response:\\n\")\n",
    "    pprint(response.json())\n",
    "except Exception as ex:\n",
    "    raise ex"
   ]
  },
  {
   "cell_type": "code",
   "execution_count": null,
   "metadata": {},
   "outputs": [],
   "source": [
    "subscription_key = \"6e475fc9-e13f-46ba-9a97-ee6b4085aeb1\"\n",
    "assert subscription_key"
   ]
  }
 ],
 "metadata": {
  "kernelspec": {
   "display_name": "Python 3",
   "language": "python",
   "name": "python3"
  },
  "language_info": {
   "codemirror_mode": {
    "name": "ipython",
    "version": 3
   },
   "file_extension": ".py",
   "mimetype": "text/x-python",
   "name": "python",
   "nbconvert_exporter": "python",
   "pygments_lexer": "ipython3",
   "version": "3.7.4"
  }
 },
 "nbformat": 4,
 "nbformat_minor": 2
}
